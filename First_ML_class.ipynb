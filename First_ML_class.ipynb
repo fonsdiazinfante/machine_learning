{
 "cells": [
  {
   "cell_type": "code",
   "execution_count": 1,
   "id": "9c58868f",
   "metadata": {},
   "outputs": [
    {
     "data": {
      "text/plain": [
       "4"
      ]
     },
     "execution_count": 1,
     "metadata": {},
     "output_type": "execute_result"
    }
   ],
   "source": [
    "2+2"
   ]
  },
  {
   "cell_type": "markdown",
   "id": "970cf371",
   "metadata": {},
   "source": [
    "# This\n",
    "## is\n",
    "### a\n",
    "#### markdown\n",
    "##### cell"
   ]
  },
  {
   "cell_type": "code",
   "execution_count": 5,
   "id": "396cb255",
   "metadata": {},
   "outputs": [
    {
     "data": {
      "text/plain": [
       "False"
      ]
     },
     "execution_count": 5,
     "metadata": {},
     "output_type": "execute_result"
    }
   ],
   "source": [
    "0.1 + 0.2 == 0.3"
   ]
  },
  {
   "cell_type": "code",
   "execution_count": 6,
   "id": "47182ff3",
   "metadata": {},
   "outputs": [
    {
     "name": "stdout",
     "output_type": "stream",
     "text": [
      "abc\n"
     ]
    }
   ],
   "source": [
    "return_value = print(\"abc\")"
   ]
  },
  {
   "cell_type": "code",
   "execution_count": 10,
   "id": "5f11980f",
   "metadata": {},
   "outputs": [
    {
     "name": "stdout",
     "output_type": "stream",
     "text": [
      "None\n"
     ]
    }
   ],
   "source": [
    "print(return_value)"
   ]
  },
  {
   "cell_type": "code",
   "execution_count": 18,
   "id": "b2625c5e",
   "metadata": {},
   "outputs": [],
   "source": [
    "L = [2,3,5,7]"
   ]
  },
  {
   "cell_type": "code",
   "execution_count": 19,
   "id": "ed1d4b20",
   "metadata": {},
   "outputs": [],
   "source": [
    "L.append(11)"
   ]
  },
  {
   "cell_type": "code",
   "execution_count": 21,
   "id": "c48977b1",
   "metadata": {},
   "outputs": [
    {
     "name": "stdout",
     "output_type": "stream",
     "text": [
      "[2, 5, 11]\n"
     ]
    }
   ],
   "source": [
    "print(L[::2])"
   ]
  },
  {
   "cell_type": "code",
   "execution_count": 22,
   "id": "1a7d827e",
   "metadata": {},
   "outputs": [],
   "source": [
    "t=(1,2,3)"
   ]
  },
  {
   "cell_type": "code",
   "execution_count": 23,
   "id": "19031b35",
   "metadata": {},
   "outputs": [
    {
     "data": {
      "text/plain": [
       "3"
      ]
     },
     "execution_count": 23,
     "metadata": {},
     "output_type": "execute_result"
    }
   ],
   "source": [
    "len(t)"
   ]
  },
  {
   "cell_type": "code",
   "execution_count": 25,
   "id": "2ca66e26",
   "metadata": {},
   "outputs": [],
   "source": [
    "primes = {2,3,5,7}"
   ]
  },
  {
   "cell_type": "code",
   "execution_count": 26,
   "id": "9320bac1",
   "metadata": {},
   "outputs": [],
   "source": [
    "odds = {1,3,5,7,9}"
   ]
  },
  {
   "cell_type": "code",
   "execution_count": 27,
   "id": "07594dee",
   "metadata": {},
   "outputs": [
    {
     "data": {
      "text/plain": [
       "{1, 2, 3, 5, 7, 9}"
      ]
     },
     "execution_count": 27,
     "metadata": {},
     "output_type": "execute_result"
    }
   ],
   "source": [
    "primes | odds"
   ]
  },
  {
   "cell_type": "code",
   "execution_count": 28,
   "id": "f15cc100",
   "metadata": {},
   "outputs": [
    {
     "data": {
      "text/plain": [
       "{1, 2, 3, 5, 7, 9}"
      ]
     },
     "execution_count": 28,
     "metadata": {},
     "output_type": "execute_result"
    }
   ],
   "source": [
    "primes.union(odds)"
   ]
  },
  {
   "cell_type": "code",
   "execution_count": 29,
   "id": "2899afde",
   "metadata": {},
   "outputs": [
    {
     "data": {
      "text/plain": [
       "{2}"
      ]
     },
     "execution_count": 29,
     "metadata": {},
     "output_type": "execute_result"
    }
   ],
   "source": [
    "primes - odds"
   ]
  },
  {
   "cell_type": "code",
   "execution_count": 30,
   "id": "e4ec7613",
   "metadata": {},
   "outputs": [
    {
     "data": {
      "text/plain": [
       "{2}"
      ]
     },
     "execution_count": 30,
     "metadata": {},
     "output_type": "execute_result"
    }
   ],
   "source": [
    "primes.difference(odds)"
   ]
  },
  {
   "cell_type": "code",
   "execution_count": 31,
   "id": "fb07e45c",
   "metadata": {},
   "outputs": [
    {
     "data": {
      "text/plain": [
       "{3, 5, 7}"
      ]
     },
     "execution_count": 31,
     "metadata": {},
     "output_type": "execute_result"
    }
   ],
   "source": [
    "primes & odds"
   ]
  },
  {
   "cell_type": "code",
   "execution_count": 32,
   "id": "da974f15",
   "metadata": {},
   "outputs": [
    {
     "data": {
      "text/plain": [
       "{3, 5, 7}"
      ]
     },
     "execution_count": 32,
     "metadata": {},
     "output_type": "execute_result"
    }
   ],
   "source": [
    "primes.intersection(odds)"
   ]
  },
  {
   "cell_type": "code",
   "execution_count": 33,
   "id": "6836648f",
   "metadata": {},
   "outputs": [
    {
     "data": {
      "text/plain": [
       "{1, 2, 9}"
      ]
     },
     "execution_count": 33,
     "metadata": {},
     "output_type": "execute_result"
    }
   ],
   "source": [
    "primes ^ odds"
   ]
  },
  {
   "cell_type": "code",
   "execution_count": 34,
   "id": "77e6916a",
   "metadata": {},
   "outputs": [
    {
     "data": {
      "text/plain": [
       "{1, 2, 9}"
      ]
     },
     "execution_count": 34,
     "metadata": {},
     "output_type": "execute_result"
    }
   ],
   "source": [
    "primes.symmetric_difference(odds)"
   ]
  },
  {
   "cell_type": "code",
   "execution_count": 36,
   "id": "228cae10",
   "metadata": {},
   "outputs": [],
   "source": [
    "def catch_all(*args, **kwargs):\n",
    "    print (\"args =\", args)\n",
    "    print (\"kwargs =\", kwargs)"
   ]
  },
  {
   "cell_type": "markdown",
   "id": "99f90e39",
   "metadata": {},
   "source": [
    "##### args and kwargs are used in thos situations where we cant estimate how many parameters are going to come in, args captures all arguments and saves them as a list, kwargs catches all key word arguments and saves them as a dictionary"
   ]
  },
  {
   "cell_type": "code",
   "execution_count": 37,
   "id": "e46a3c13",
   "metadata": {},
   "outputs": [
    {
     "name": "stdout",
     "output_type": "stream",
     "text": [
      "args = (1, 2, 3)\n",
      "kwargs = {'r': 5, 't': 6}\n"
     ]
    }
   ],
   "source": [
    "catch_all(1,2,3,r=5,t=6)"
   ]
  },
  {
   "cell_type": "code",
   "execution_count": 38,
   "id": "e8892714",
   "metadata": {},
   "outputs": [
    {
     "data": {
      "text/plain": [
       "[1, 2, 4, 5, 7, 8, 10, 11, 13, 14, 16, 17, 19]"
      ]
     },
     "execution_count": 38,
     "metadata": {},
     "output_type": "execute_result"
    }
   ],
   "source": [
    "[i for i in range(20) if i %3>0]"
   ]
  },
  {
   "cell_type": "markdown",
   "id": "e6771883",
   "metadata": {},
   "source": [
    "#### The line above is known as written in Pythonic code"
   ]
  },
  {
   "cell_type": "code",
   "execution_count": null,
   "id": "7e96730c",
   "metadata": {},
   "outputs": [],
   "source": [
    "[n**2 for n in range(12)]"
   ]
  },
  {
   "cell_type": "markdown",
   "id": "11d83978",
   "metadata": {},
   "source": [
    "##### List comprehension, when I run the above code, i will get 12 values and they will be stored in a list, as well as memory for 12 values will be created and stored"
   ]
  },
  {
   "cell_type": "code",
   "execution_count": 41,
   "id": "4bba6da9",
   "metadata": {},
   "outputs": [
    {
     "data": {
      "text/plain": [
       "<generator object <genexpr> at 0x7fddc3017190>"
      ]
     },
     "execution_count": 41,
     "metadata": {},
     "output_type": "execute_result"
    }
   ],
   "source": [
    "(n**2 for n in range(12))"
   ]
  },
  {
   "cell_type": "markdown",
   "id": "663811ca",
   "metadata": {},
   "source": [
    "##### Generator comprehension, with generator comprehension the values are created as they are needed, it will not create the spaces right away, it will generate the memory as needed, if I have memory issues, use generator comprehension"
   ]
  },
  {
   "cell_type": "code",
   "execution_count": 44,
   "id": "4febfed6",
   "metadata": {},
   "outputs": [],
   "source": [
    "G=(n ** 2 for n in range(12))"
   ]
  },
  {
   "cell_type": "code",
   "execution_count": 45,
   "id": "c17e274f",
   "metadata": {},
   "outputs": [
    {
     "data": {
      "text/plain": [
       "[0, 1, 4, 9, 16, 25, 36, 49, 64, 81, 100, 121]"
      ]
     },
     "execution_count": 45,
     "metadata": {},
     "output_type": "execute_result"
    }
   ],
   "source": [
    "list(G)"
   ]
  },
  {
   "cell_type": "code",
   "execution_count": 46,
   "id": "9a82e671",
   "metadata": {},
   "outputs": [
    {
     "data": {
      "text/plain": [
       "[]"
      ]
     },
     "execution_count": 46,
     "metadata": {},
     "output_type": "execute_result"
    }
   ],
   "source": [
    "list(G)"
   ]
  },
  {
   "cell_type": "code",
   "execution_count": 48,
   "id": "68e62d69",
   "metadata": {},
   "outputs": [],
   "source": [
    "L1 = [ n ** 2 for n in range (12)]"
   ]
  },
  {
   "cell_type": "code",
   "execution_count": 50,
   "id": "8fc8f0d4",
   "metadata": {},
   "outputs": [],
   "source": [
    "L2 = []\n",
    "for n in range(12):\n",
    "    L2.append(n ** 2)"
   ]
  },
  {
   "cell_type": "code",
   "execution_count": 51,
   "id": "e9c0d324",
   "metadata": {},
   "outputs": [
    {
     "name": "stdout",
     "output_type": "stream",
     "text": [
      "[0, 1, 4, 9, 16, 25, 36, 49, 64, 81, 100, 121]\n",
      "[0, 1, 4, 9, 16, 25, 36, 49, 64, 81, 100, 121]\n"
     ]
    }
   ],
   "source": [
    "print(L1)\n",
    "print(L2)"
   ]
  },
  {
   "cell_type": "code",
   "execution_count": 52,
   "id": "4e35a3be",
   "metadata": {},
   "outputs": [],
   "source": [
    "G1 = (n ** 2 for n in range(12))"
   ]
  },
  {
   "cell_type": "code",
   "execution_count": 53,
   "id": "b3434050",
   "metadata": {},
   "outputs": [],
   "source": [
    "def gen():\n",
    "    for n in range(12):\n",
    "        yield n ** 2\n",
    "G2 = gen()"
   ]
  },
  {
   "cell_type": "code",
   "execution_count": 54,
   "id": "fe622964",
   "metadata": {},
   "outputs": [
    {
     "name": "stdout",
     "output_type": "stream",
     "text": [
      "0 1 4 9 16 25 36 49 64 81 100 121\n"
     ]
    }
   ],
   "source": [
    "print(*G1)"
   ]
  },
  {
   "cell_type": "code",
   "execution_count": 55,
   "id": "9e3de1ad",
   "metadata": {},
   "outputs": [
    {
     "name": "stdout",
     "output_type": "stream",
     "text": [
      "0 1 4 9 16 25 36 49 64 81 100 121\n"
     ]
    }
   ],
   "source": [
    "print(*G2)"
   ]
  },
  {
   "cell_type": "markdown",
   "id": "86d268d2",
   "metadata": {},
   "source": [
    "###### yield is == to return in a normal function that can make generator functions work, return is not valid inside inside a generator function\n"
   ]
  },
  {
   "cell_type": "code",
   "execution_count": 57,
   "id": "098bf0a8",
   "metadata": {},
   "outputs": [],
   "source": [
    "class Snake:\n",
    "    def __init__(self, name):\n",
    "        self.name = name\n",
    "    \n",
    "    def change_name(self, new_name):\n",
    "        self.name = new_name"
   ]
  },
  {
   "cell_type": "markdown",
   "id": "e15a1ec7",
   "metadata": {},
   "source": [
    "## init is used to define certain variables or behaviours inside classes in Python, like a constructor"
   ]
  },
  {
   "cell_type": "code",
   "execution_count": null,
   "id": "baebd1b3",
   "metadata": {},
   "outputs": [],
   "source": [
    "python = Snake(\"python\")"
   ]
  },
  {
   "cell_type": "code",
   "execution_count": null,
   "id": "9bf901a1",
   "metadata": {},
   "outputs": [],
   "source": [
    "anaconda = Snake(\"anaconda\")"
   ]
  },
  {
   "cell_type": "code",
   "execution_count": null,
   "id": "055f61fe",
   "metadata": {},
   "outputs": [],
   "source": [
    "print(python.name)"
   ]
  },
  {
   "cell_type": "code",
   "execution_count": null,
   "id": "c56bd748",
   "metadata": {},
   "outputs": [],
   "source": [
    "print(anaconda.name)"
   ]
  },
  {
   "cell_type": "code",
   "execution_count": null,
   "id": "54d239aa",
   "metadata": {},
   "outputs": [],
   "source": []
  }
 ],
 "metadata": {
  "kernelspec": {
   "display_name": "Python 3 (ipykernel)",
   "language": "python",
   "name": "python3"
  },
  "language_info": {
   "codemirror_mode": {
    "name": "ipython",
    "version": 3
   },
   "file_extension": ".py",
   "mimetype": "text/x-python",
   "name": "python",
   "nbconvert_exporter": "python",
   "pygments_lexer": "ipython3",
   "version": "3.9.7"
  }
 },
 "nbformat": 4,
 "nbformat_minor": 5
}
